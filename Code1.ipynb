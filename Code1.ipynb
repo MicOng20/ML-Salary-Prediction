{
  "nbformat": 4,
  "nbformat_minor": 5,
  "metadata": {
    "kernelspec": {
      "display_name": "Python 3",
      "language": "python",
      "name": "python3"
    },
    "language_info": {
      "codemirror_mode": {
        "name": "ipython",
        "version": 3
      },
      "file_extension": ".py",
      "mimetype": "text/x-python",
      "name": "python",
      "nbconvert_exporter": "python",
      "pygments_lexer": "ipython3",
      "version": "3.8.3"
    },
    "colab": {
      "name": "Code.ipynb",
      "provenance": []
    }
  },
  "cells": [
    {
      "cell_type": "markdown",
      "metadata": {
        "id": "n8HroHAUsBOR"
      },
      "source": [
        "# Data Explore"
      ],
      "id": "n8HroHAUsBOR"
    },
    {
      "cell_type": "markdown",
      "metadata": {
        "id": "x_2LIxqpsBOT"
      },
      "source": [
        "## Import Python Libraries"
      ],
      "id": "x_2LIxqpsBOT"
    },
    {
      "cell_type": "code",
      "metadata": {
        "id": "kdJ9tQmHsBOT"
      },
      "source": [
        "import numpy as np\n",
        "import pandas as pd\n",
        "import matplotlib.pyplot as plt\n",
        "import seaborn as sns\n",
        "\n",
        "%matplotlib inline"
      ],
      "id": "kdJ9tQmHsBOT",
      "execution_count": null,
      "outputs": []
    },
    {
      "cell_type": "markdown",
      "metadata": {
        "id": "Pqo3Kp32sBOU"
      },
      "source": [
        "## Data Collection"
      ],
      "id": "Pqo3Kp32sBOU"
    },
    {
      "cell_type": "code",
      "metadata": {
        "id": "1i-TJAp-sBOU"
      },
      "source": [
        "#salary = pd.read_csv('SalaryBackup.csv')\n",
        "salary = pd.read_csv(\"Salary.csv\", na_values = \"?\")"
      ],
      "id": "1i-TJAp-sBOU",
      "execution_count": null,
      "outputs": []
    },
    {
      "cell_type": "code",
      "metadata": {
        "id": "-YKM9_LXsBOV",
        "outputId": "fa57266d-a4c7-467d-e2a1-79b23ce74033"
      },
      "source": [
        "salary.head(10)"
      ],
      "id": "-YKM9_LXsBOV",
      "execution_count": null,
      "outputs": [
        {
          "output_type": "execute_result",
          "data": {
            "text/html": [
              "<div>\n",
              "<style scoped>\n",
              "    .dataframe tbody tr th:only-of-type {\n",
              "        vertical-align: middle;\n",
              "    }\n",
              "\n",
              "    .dataframe tbody tr th {\n",
              "        vertical-align: top;\n",
              "    }\n",
              "\n",
              "    .dataframe thead th {\n",
              "        text-align: right;\n",
              "    }\n",
              "</style>\n",
              "<table border=\"1\" class=\"dataframe\">\n",
              "  <thead>\n",
              "    <tr style=\"text-align: right;\">\n",
              "      <th></th>\n",
              "      <th>work_type</th>\n",
              "      <th>age</th>\n",
              "      <th>weight</th>\n",
              "      <th>education</th>\n",
              "      <th>education_years</th>\n",
              "      <th>marital_status</th>\n",
              "      <th>occupation</th>\n",
              "      <th>relationship</th>\n",
              "      <th>race</th>\n",
              "      <th>sex</th>\n",
              "      <th>investment_gain</th>\n",
              "      <th>investment_loss</th>\n",
              "      <th>company_size</th>\n",
              "      <th>weekly_hours</th>\n",
              "      <th>country</th>\n",
              "      <th>salary_range</th>\n",
              "    </tr>\n",
              "  </thead>\n",
              "  <tbody>\n",
              "    <tr>\n",
              "      <th>0</th>\n",
              "      <td>Private</td>\n",
              "      <td>19</td>\n",
              "      <td>216804</td>\n",
              "      <td>7th-8th</td>\n",
              "      <td>4.0</td>\n",
              "      <td>Never-married</td>\n",
              "      <td>Other-service</td>\n",
              "      <td>Own-child</td>\n",
              "      <td>White</td>\n",
              "      <td>Male</td>\n",
              "      <td>0</td>\n",
              "      <td>0</td>\n",
              "      <td>825</td>\n",
              "      <td>33</td>\n",
              "      <td>United-States</td>\n",
              "      <td>low</td>\n",
              "    </tr>\n",
              "    <tr>\n",
              "      <th>1</th>\n",
              "      <td>Private</td>\n",
              "      <td>23</td>\n",
              "      <td>207546</td>\n",
              "      <td>11th</td>\n",
              "      <td>7.0</td>\n",
              "      <td>Married-civ-spouse</td>\n",
              "      <td>Machine-op-inspct</td>\n",
              "      <td>Husband</td>\n",
              "      <td>White</td>\n",
              "      <td>Male</td>\n",
              "      <td>0</td>\n",
              "      <td>0</td>\n",
              "      <td>865</td>\n",
              "      <td>40</td>\n",
              "      <td>United-States</td>\n",
              "      <td>low</td>\n",
              "    </tr>\n",
              "    <tr>\n",
              "      <th>2</th>\n",
              "      <td>Private</td>\n",
              "      <td>41</td>\n",
              "      <td>253759</td>\n",
              "      <td>HS-grad</td>\n",
              "      <td>9.0</td>\n",
              "      <td>Never-married</td>\n",
              "      <td>Sales</td>\n",
              "      <td>Unmarried</td>\n",
              "      <td>Black</td>\n",
              "      <td>Female</td>\n",
              "      <td>0</td>\n",
              "      <td>0</td>\n",
              "      <td>727</td>\n",
              "      <td>40</td>\n",
              "      <td>United-States</td>\n",
              "      <td>low</td>\n",
              "    </tr>\n",
              "    <tr>\n",
              "      <th>3</th>\n",
              "      <td>Private</td>\n",
              "      <td>28</td>\n",
              "      <td>180928</td>\n",
              "      <td>Some-college</td>\n",
              "      <td>10.0</td>\n",
              "      <td>Married-civ-spouse</td>\n",
              "      <td>Handlers-cleaners</td>\n",
              "      <td>Husband</td>\n",
              "      <td>White</td>\n",
              "      <td>Male</td>\n",
              "      <td>5013</td>\n",
              "      <td>0</td>\n",
              "      <td>328</td>\n",
              "      <td>55</td>\n",
              "      <td>United-States</td>\n",
              "      <td>low</td>\n",
              "    </tr>\n",
              "    <tr>\n",
              "      <th>4</th>\n",
              "      <td>Private</td>\n",
              "      <td>17</td>\n",
              "      <td>208463</td>\n",
              "      <td>HS-grad</td>\n",
              "      <td>9.0</td>\n",
              "      <td>Never-married</td>\n",
              "      <td>Sales</td>\n",
              "      <td>Own-child</td>\n",
              "      <td>White</td>\n",
              "      <td>Female</td>\n",
              "      <td>0</td>\n",
              "      <td>0</td>\n",
              "      <td>977</td>\n",
              "      <td>20</td>\n",
              "      <td>United-States</td>\n",
              "      <td>low</td>\n",
              "    </tr>\n",
              "    <tr>\n",
              "      <th>5</th>\n",
              "      <td>Private</td>\n",
              "      <td>73</td>\n",
              "      <td>333676</td>\n",
              "      <td>HS-grad</td>\n",
              "      <td>9.0</td>\n",
              "      <td>Married-civ-spouse</td>\n",
              "      <td>Farming-fishing</td>\n",
              "      <td>Husband</td>\n",
              "      <td>White</td>\n",
              "      <td>Male</td>\n",
              "      <td>0</td>\n",
              "      <td>0</td>\n",
              "      <td>118</td>\n",
              "      <td>50</td>\n",
              "      <td>United-States</td>\n",
              "      <td>low</td>\n",
              "    </tr>\n",
              "    <tr>\n",
              "      <th>6</th>\n",
              "      <td>Local-gov</td>\n",
              "      <td>65</td>\n",
              "      <td>24824</td>\n",
              "      <td>HS-grad</td>\n",
              "      <td>9.0</td>\n",
              "      <td>Married-civ-spouse</td>\n",
              "      <td>Craft-repair</td>\n",
              "      <td>Husband</td>\n",
              "      <td>White</td>\n",
              "      <td>Male</td>\n",
              "      <td>0</td>\n",
              "      <td>0</td>\n",
              "      <td>793</td>\n",
              "      <td>40</td>\n",
              "      <td>United-States</td>\n",
              "      <td>low</td>\n",
              "    </tr>\n",
              "    <tr>\n",
              "      <th>7</th>\n",
              "      <td>Private</td>\n",
              "      <td>37</td>\n",
              "      <td>96330</td>\n",
              "      <td>Some-college</td>\n",
              "      <td>10.0</td>\n",
              "      <td>Never-married</td>\n",
              "      <td>Exec-managerial</td>\n",
              "      <td>Unmarried</td>\n",
              "      <td>Black</td>\n",
              "      <td>Female</td>\n",
              "      <td>0</td>\n",
              "      <td>0</td>\n",
              "      <td>193</td>\n",
              "      <td>40</td>\n",
              "      <td>United-States</td>\n",
              "      <td>low</td>\n",
              "    </tr>\n",
              "    <tr>\n",
              "      <th>8</th>\n",
              "      <td>Private</td>\n",
              "      <td>53</td>\n",
              "      <td>47396</td>\n",
              "      <td>HS-grad</td>\n",
              "      <td>9.0</td>\n",
              "      <td>Married-civ-spouse</td>\n",
              "      <td>Craft-repair</td>\n",
              "      <td>Husband</td>\n",
              "      <td>White</td>\n",
              "      <td>Male</td>\n",
              "      <td>0</td>\n",
              "      <td>0</td>\n",
              "      <td>427</td>\n",
              "      <td>40</td>\n",
              "      <td>United-States</td>\n",
              "      <td>low</td>\n",
              "    </tr>\n",
              "    <tr>\n",
              "      <th>9</th>\n",
              "      <td>NaN</td>\n",
              "      <td>61</td>\n",
              "      <td>166855</td>\n",
              "      <td>Bachelors</td>\n",
              "      <td>13.0</td>\n",
              "      <td>Married-civ-spouse</td>\n",
              "      <td>NaN</td>\n",
              "      <td>Husband</td>\n",
              "      <td>White</td>\n",
              "      <td>Male</td>\n",
              "      <td>0</td>\n",
              "      <td>0</td>\n",
              "      <td>164</td>\n",
              "      <td>10</td>\n",
              "      <td>United-States</td>\n",
              "      <td>low</td>\n",
              "    </tr>\n",
              "  </tbody>\n",
              "</table>\n",
              "</div>"
            ],
            "text/plain": [
              "   work_type  age  weight     education  education_years      marital_status  \\\n",
              "0    Private   19  216804       7th-8th              4.0       Never-married   \n",
              "1    Private   23  207546          11th              7.0  Married-civ-spouse   \n",
              "2    Private   41  253759       HS-grad              9.0       Never-married   \n",
              "3    Private   28  180928  Some-college             10.0  Married-civ-spouse   \n",
              "4    Private   17  208463       HS-grad              9.0       Never-married   \n",
              "5    Private   73  333676       HS-grad              9.0  Married-civ-spouse   \n",
              "6  Local-gov   65   24824       HS-grad              9.0  Married-civ-spouse   \n",
              "7    Private   37   96330  Some-college             10.0       Never-married   \n",
              "8    Private   53   47396       HS-grad              9.0  Married-civ-spouse   \n",
              "9        NaN   61  166855     Bachelors             13.0  Married-civ-spouse   \n",
              "\n",
              "          occupation relationship   race     sex  investment_gain  \\\n",
              "0      Other-service    Own-child  White    Male                0   \n",
              "1  Machine-op-inspct      Husband  White    Male                0   \n",
              "2              Sales    Unmarried  Black  Female                0   \n",
              "3  Handlers-cleaners      Husband  White    Male             5013   \n",
              "4              Sales    Own-child  White  Female                0   \n",
              "5    Farming-fishing      Husband  White    Male                0   \n",
              "6       Craft-repair      Husband  White    Male                0   \n",
              "7    Exec-managerial    Unmarried  Black  Female                0   \n",
              "8       Craft-repair      Husband  White    Male                0   \n",
              "9                NaN      Husband  White    Male                0   \n",
              "\n",
              "   investment_loss  company_size  weekly_hours        country salary_range  \n",
              "0                0           825            33  United-States          low  \n",
              "1                0           865            40  United-States          low  \n",
              "2                0           727            40  United-States          low  \n",
              "3                0           328            55  United-States          low  \n",
              "4                0           977            20  United-States          low  \n",
              "5                0           118            50  United-States          low  \n",
              "6                0           793            40  United-States          low  \n",
              "7                0           193            40  United-States          low  \n",
              "8                0           427            40  United-States          low  \n",
              "9                0           164            10  United-States          low  "
            ]
          },
          "metadata": {
            "tags": []
          },
          "execution_count": 6
        }
      ]
    },
    {
      "cell_type": "code",
      "metadata": {
        "id": "zt7P3fklsBOW",
        "outputId": "27a5e29f-45c1-417c-8b75-d66a3432bfc4"
      },
      "source": [
        "salary.isnull().sum()"
      ],
      "id": "zt7P3fklsBOW",
      "execution_count": null,
      "outputs": [
        {
          "output_type": "execute_result",
          "data": {
            "text/plain": [
              "work_type          1836\n",
              "age                   0\n",
              "weight                0\n",
              "education             0\n",
              "education_years       9\n",
              "marital_status        0\n",
              "occupation         1843\n",
              "relationship          0\n",
              "race                  0\n",
              "sex                   0\n",
              "investment_gain       0\n",
              "investment_loss       0\n",
              "company_size          0\n",
              "weekly_hours          0\n",
              "country             583\n",
              "salary_range          0\n",
              "dtype: int64"
            ]
          },
          "metadata": {
            "tags": []
          },
          "execution_count": 7
        }
      ]
    },
    {
      "cell_type": "code",
      "metadata": {
        "id": "KiBUpfe3sBOW",
        "outputId": "bc4fd76e-e44f-4f79-b764-c224facc5b23"
      },
      "source": [
        "#original shape of dataset\n",
        "print(\"Shape\",salary.shape)"
      ],
      "id": "KiBUpfe3sBOW",
      "execution_count": null,
      "outputs": [
        {
          "output_type": "stream",
          "text": [
            "Shape (32561, 16)\n"
          ],
          "name": "stdout"
        }
      ]
    },
    {
      "cell_type": "code",
      "metadata": {
        "id": "qdNtSez6sBOX",
        "outputId": "a491b53f-68e2-4cca-df0c-5e36bab3653b"
      },
      "source": [
        "salary.info()"
      ],
      "id": "qdNtSez6sBOX",
      "execution_count": null,
      "outputs": [
        {
          "output_type": "stream",
          "text": [
            "<class 'pandas.core.frame.DataFrame'>\n",
            "RangeIndex: 32561 entries, 0 to 32560\n",
            "Data columns (total 16 columns):\n",
            " #   Column           Non-Null Count  Dtype  \n",
            "---  ------           --------------  -----  \n",
            " 0   work_type        30725 non-null  object \n",
            " 1   age              32561 non-null  int64  \n",
            " 2   weight           32561 non-null  int64  \n",
            " 3   education        32561 non-null  object \n",
            " 4   education_years  32552 non-null  float64\n",
            " 5   marital_status   32561 non-null  object \n",
            " 6   occupation       30718 non-null  object \n",
            " 7   relationship     32561 non-null  object \n",
            " 8   race             32561 non-null  object \n",
            " 9   sex              32561 non-null  object \n",
            " 10  investment_gain  32561 non-null  int64  \n",
            " 11  investment_loss  32561 non-null  int64  \n",
            " 12  company_size     32561 non-null  int64  \n",
            " 13  weekly_hours     32561 non-null  int64  \n",
            " 14  country          31978 non-null  object \n",
            " 15  salary_range     32561 non-null  object \n",
            "dtypes: float64(1), int64(6), object(9)\n",
            "memory usage: 4.0+ MB\n"
          ],
          "name": "stdout"
        }
      ]
    },
    {
      "cell_type": "code",
      "metadata": {
        "scrolled": true,
        "id": "gVyXm4hksBOX",
        "outputId": "709c6776-5e63-4561-d70b-396af744f0ea"
      },
      "source": [
        "new_salary.groupby('salary_range').size()"
      ],
      "id": "gVyXm4hksBOX",
      "execution_count": null,
      "outputs": [
        {
          "output_type": "execute_result",
          "data": {
            "text/plain": [
              "salary_range\n",
              "high     7506\n",
              "low     22647\n",
              "dtype: int64"
            ]
          },
          "metadata": {
            "tags": []
          },
          "execution_count": 48
        }
      ]
    },
    {
      "cell_type": "markdown",
      "metadata": {
        "id": "n39ZUTTfsBOY"
      },
      "source": [
        "*Comment for the size of \"salary_range\":*<br>\n",
        "- Maybe need to rebalance the class **(avoid imbalanced class result)**"
      ],
      "id": "n39ZUTTfsBOY"
    },
    {
      "cell_type": "markdown",
      "metadata": {
        "id": "_2H9tpMHsBOY"
      },
      "source": [
        "## Numerical Feaures Analysis"
      ],
      "id": "_2H9tpMHsBOY"
    },
    {
      "cell_type": "code",
      "metadata": {
        "id": "7qvQQw7UsBOY",
        "outputId": "6cd8ed02-cc0f-46a2-e0c5-875f57bf1b6c"
      },
      "source": [
        "salary.describe() "
      ],
      "id": "7qvQQw7UsBOY",
      "execution_count": null,
      "outputs": [
        {
          "output_type": "execute_result",
          "data": {
            "text/html": [
              "<div>\n",
              "<style scoped>\n",
              "    .dataframe tbody tr th:only-of-type {\n",
              "        vertical-align: middle;\n",
              "    }\n",
              "\n",
              "    .dataframe tbody tr th {\n",
              "        vertical-align: top;\n",
              "    }\n",
              "\n",
              "    .dataframe thead th {\n",
              "        text-align: right;\n",
              "    }\n",
              "</style>\n",
              "<table border=\"1\" class=\"dataframe\">\n",
              "  <thead>\n",
              "    <tr style=\"text-align: right;\">\n",
              "      <th></th>\n",
              "      <th>age</th>\n",
              "      <th>weight</th>\n",
              "      <th>education_years</th>\n",
              "      <th>investment_gain</th>\n",
              "      <th>investment_loss</th>\n",
              "      <th>company_size</th>\n",
              "      <th>weekly_hours</th>\n",
              "    </tr>\n",
              "  </thead>\n",
              "  <tbody>\n",
              "    <tr>\n",
              "      <th>count</th>\n",
              "      <td>32561.000000</td>\n",
              "      <td>3.256100e+04</td>\n",
              "      <td>32552.000000</td>\n",
              "      <td>32561.000000</td>\n",
              "      <td>32561.000000</td>\n",
              "      <td>32561.000000</td>\n",
              "      <td>32561.000000</td>\n",
              "    </tr>\n",
              "    <tr>\n",
              "      <th>mean</th>\n",
              "      <td>38.581647</td>\n",
              "      <td>1.897784e+05</td>\n",
              "      <td>10.080609</td>\n",
              "      <td>1077.648844</td>\n",
              "      <td>87.303830</td>\n",
              "      <td>500.930838</td>\n",
              "      <td>40.437456</td>\n",
              "    </tr>\n",
              "    <tr>\n",
              "      <th>std</th>\n",
              "      <td>13.640433</td>\n",
              "      <td>1.055500e+05</td>\n",
              "      <td>2.572762</td>\n",
              "      <td>7385.292085</td>\n",
              "      <td>402.960219</td>\n",
              "      <td>285.784842</td>\n",
              "      <td>12.347429</td>\n",
              "    </tr>\n",
              "    <tr>\n",
              "      <th>min</th>\n",
              "      <td>17.000000</td>\n",
              "      <td>1.228500e+04</td>\n",
              "      <td>1.000000</td>\n",
              "      <td>0.000000</td>\n",
              "      <td>0.000000</td>\n",
              "      <td>5.000000</td>\n",
              "      <td>1.000000</td>\n",
              "    </tr>\n",
              "    <tr>\n",
              "      <th>25%</th>\n",
              "      <td>28.000000</td>\n",
              "      <td>1.178270e+05</td>\n",
              "      <td>9.000000</td>\n",
              "      <td>0.000000</td>\n",
              "      <td>0.000000</td>\n",
              "      <td>254.000000</td>\n",
              "      <td>40.000000</td>\n",
              "    </tr>\n",
              "    <tr>\n",
              "      <th>50%</th>\n",
              "      <td>37.000000</td>\n",
              "      <td>1.783560e+05</td>\n",
              "      <td>10.000000</td>\n",
              "      <td>0.000000</td>\n",
              "      <td>0.000000</td>\n",
              "      <td>502.000000</td>\n",
              "      <td>40.000000</td>\n",
              "    </tr>\n",
              "    <tr>\n",
              "      <th>75%</th>\n",
              "      <td>48.000000</td>\n",
              "      <td>2.370510e+05</td>\n",
              "      <td>12.000000</td>\n",
              "      <td>0.000000</td>\n",
              "      <td>0.000000</td>\n",
              "      <td>745.000000</td>\n",
              "      <td>45.000000</td>\n",
              "    </tr>\n",
              "    <tr>\n",
              "      <th>max</th>\n",
              "      <td>90.000000</td>\n",
              "      <td>1.484705e+06</td>\n",
              "      <td>16.000000</td>\n",
              "      <td>99999.000000</td>\n",
              "      <td>4356.000000</td>\n",
              "      <td>1000.000000</td>\n",
              "      <td>99.000000</td>\n",
              "    </tr>\n",
              "  </tbody>\n",
              "</table>\n",
              "</div>"
            ],
            "text/plain": [
              "                age        weight  education_years  investment_gain  \\\n",
              "count  32561.000000  3.256100e+04     32552.000000     32561.000000   \n",
              "mean      38.581647  1.897784e+05        10.080609      1077.648844   \n",
              "std       13.640433  1.055500e+05         2.572762      7385.292085   \n",
              "min       17.000000  1.228500e+04         1.000000         0.000000   \n",
              "25%       28.000000  1.178270e+05         9.000000         0.000000   \n",
              "50%       37.000000  1.783560e+05        10.000000         0.000000   \n",
              "75%       48.000000  2.370510e+05        12.000000         0.000000   \n",
              "max       90.000000  1.484705e+06        16.000000     99999.000000   \n",
              "\n",
              "       investment_loss  company_size  weekly_hours  \n",
              "count     32561.000000  32561.000000  32561.000000  \n",
              "mean         87.303830    500.930838     40.437456  \n",
              "std         402.960219    285.784842     12.347429  \n",
              "min           0.000000      5.000000      1.000000  \n",
              "25%           0.000000    254.000000     40.000000  \n",
              "50%           0.000000    502.000000     40.000000  \n",
              "75%           0.000000    745.000000     45.000000  \n",
              "max        4356.000000   1000.000000     99.000000  "
            ]
          },
          "metadata": {
            "tags": []
          },
          "execution_count": 7
        }
      ]
    },
    {
      "cell_type": "markdown",
      "metadata": {
        "id": "fKMUVZPasBOZ"
      },
      "source": [
        "Summary of the describtion of the data:\n",
        "---\n",
        "1. Age   : 17 - 90 years old\n",
        "2. Weight: 1.376900e+04 - 1.484705e+06\n",
        "3. Education_years: 1 - 16 years\n",
        "4. investment_gain: 0.00 - 99999.00\n",
        "5. investment_loss: 0.00 - 4356.00\n",
        "6. company_size   : 5 - 1000 employees\n",
        "7. weekly_hours   : 1 - 99 hours"
      ],
      "id": "fKMUVZPasBOZ"
    },
    {
      "cell_type": "code",
      "metadata": {
        "id": "xVpaiBatsBOZ",
        "outputId": "6c967ec1-1393-42ba-c113-2f28431cf609"
      },
      "source": [
        "salary.hist(bins = 50, figsize = (20,15))\n",
        "plt.show() "
      ],
      "id": "xVpaiBatsBOZ",
      "execution_count": null,
      "outputs": [
        {
          "output_type": "display_data",
          "data": {
            "image/png": "[encoded data removed]",
            "text/plain": [
              "<Figure size 1440x1080 with 9 Axes>"
            ]
          },
          "metadata": {
            "tags": [],
            "needs_background": "light"
          }
        }
      ]
    },
    {
      "cell_type": "markdown",
      "metadata": {
        "id": "jwKzM3YdsBOZ"
      },
      "source": [
        "Distribution data questions: <br>\n",
        "    a. How is the distribution data - heavy tail issue<br>\n",
        "        - 3 attributes (weight, investment_gain, investment_loss)<br>\n",
        "    b. What is peculiar about the graph<br>\n",
        "        - <br>\n",
        "    c. Features that have different scales<br>\n",
        "        - weekly_hours"
      ],
      "id": "jwKzM3YdsBOZ"
    },
    {
      "cell_type": "markdown",
      "metadata": {
        "id": "2vjwa9TNsBOZ"
      },
      "source": [
        "## Categorical Features Analysis"
      ],
      "id": "2vjwa9TNsBOZ"
    },
    {
      "cell_type": "code",
      "metadata": {
        "id": "eV-yh1lZsBOa",
        "outputId": "56d2cf4d-10e7-4457-aff7-218d364d5e16"
      },
      "source": [
        "salary.value_counts()"
      ],
      "id": "eV-yh1lZsBOa",
      "execution_count": null,
      "outputs": [
        {
          "output_type": "execute_result",
          "data": {
            "text/plain": [
              "work_type    age  weight  education     education_years  marital_status      occupation         relationship   race                sex     investment_gain  investment_loss  company_size  weekly_hours  country        salary_range\n",
              "Federal-gov  17   99893   11th          7.0              Never-married       Adm-clerical       Not-in-family  Black               Female  0                1602             415           40            United-States  low             1\n",
              "Private      46   216164  HS-grad       9.0              Married-civ-spouse  Handlers-cleaners  Husband        White               Male    0                0                266           40            United-States  low             1\n",
              "                  224559  HS-grad       9.0              Married-civ-spouse  Transport-moving   Husband        Black               Male    0                0                300           40            United-States  low             1\n",
              "                  224202  Some-college  10.0             Married-civ-spouse  Sales              Husband        White               Male    0                0                696           50            United-States  low             1\n",
              "                  220269  Some-college  10.0             Married-civ-spouse  Tech-support       Husband        White               Male    0                0                181           40            United-States  high            1\n",
              "                                                                                                                                                                                                                                       ..\n",
              "             29   100405  10th          6.0              Married-civ-spouse  Farming-fishing    Wife           Amer-Indian-Eskimo  Female  0                0                812           40            United-States  low             1\n",
              "                  100219  Assoc-acdm    12.0             Never-married       Machine-op-inspct  Unmarried      White               Male    0                0                370           45            United-States  low             1\n",
              "                  99369   Bachelors     13.0             Never-married       Prof-specialty     Not-in-family  Other               Female  0                0                659           50            United-States  low             1\n",
              "                  95465   HS-grad       9.0              Never-married       Tech-support       Not-in-family  White               Male    0                0                654           42            United-States  low             1\n",
              "Without-pay  72   121004  HS-grad       9.0              Married-civ-spouse  Other-service      Husband        White               Male    0                0                281           55            United-States  low             1\n",
              "Length: 30153, dtype: int64"
            ]
          },
          "metadata": {
            "tags": []
          },
          "execution_count": 9
        }
      ]
    },
    {
      "cell_type": "markdown",
      "metadata": {
        "id": "Hs5aXem5sBOa"
      },
      "source": [
        "Formulate data question of the: <br>\n",
        "    a. How many possible values for the categorical feature<br>\n",
        "        - 10 attributes<br>\n",
        "    b. What is the most frequent value<br>\n",
        "        - <br>\n",
        "    c. What is the least frequent value<br>\n",
        "        - <br>"
      ],
      "id": "Hs5aXem5sBOa"
    },
    {
      "cell_type": "markdown",
      "metadata": {
        "id": "llIK1z0LsBOa"
      },
      "source": [
        "# Data Visualization"
      ],
      "id": "llIK1z0LsBOa"
    },
    {
      "cell_type": "code",
      "metadata": {
        "id": "VXkNUfmKsBOa",
        "outputId": "851ca20f-f15d-4ace-a723-ba80fdfc07b4"
      },
      "source": [
        "# a list with all missing value formats\n",
        "#missing_value_formats = [\"n.a.\",\"?\",\"NA\",\"n/a\", \"na\", \"--\"]\n",
        "new_data = pd.read_csv(\"Salary.csv\", na_values = \"?\")"
      ],
      "id": "VXkNUfmKsBOa",
      "execution_count": null,
      "outputs": [
        {
          "output_type": "stream",
          "text": [
            "<class 'pandas.core.frame.DataFrame'>\n",
            "RangeIndex: 32561 entries, 0 to 32560\n",
            "Data columns (total 16 columns):\n",
            " #   Column           Non-Null Count  Dtype  \n",
            "---  ------           --------------  -----  \n",
            " 0   work_type        30725 non-null  object \n",
            " 1   age              32561 non-null  int64  \n",
            " 2   weight           32561 non-null  int64  \n",
            " 3   education        32561 non-null  object \n",
            " 4   education_years  32552 non-null  float64\n",
            " 5   marital_status   32561 non-null  object \n",
            " 6   occupation       30718 non-null  object \n",
            " 7   relationship     32561 non-null  object \n",
            " 8   race             32561 non-null  object \n",
            " 9   sex              32561 non-null  object \n",
            " 10  investment_gain  32561 non-null  int64  \n",
            " 11  investment_loss  32561 non-null  int64  \n",
            " 12  company_size     32561 non-null  int64  \n",
            " 13  weekly_hours     32561 non-null  int64  \n",
            " 14  country          31978 non-null  object \n",
            " 15  salary_range     32561 non-null  object \n",
            "dtypes: float64(1), int64(6), object(9)\n",
            "memory usage: 4.0+ MB\n"
          ],
          "name": "stdout"
        }
      ]
    },
    {
      "cell_type": "code",
      "metadata": {
        "id": "JgqT0suqsBOb",
        "outputId": "7ee17a12-ce33-4e9e-f570-b5bb89c997e7"
      },
      "source": [
        "new_data.info()"
      ],
      "id": "JgqT0suqsBOb",
      "execution_count": null,
      "outputs": [
        {
          "output_type": "stream",
          "text": [
            "<class 'pandas.core.frame.DataFrame'>\n",
            "RangeIndex: 32561 entries, 0 to 32560\n",
            "Data columns (total 16 columns):\n",
            " #   Column           Non-Null Count  Dtype  \n",
            "---  ------           --------------  -----  \n",
            " 0   work_type        30725 non-null  object \n",
            " 1   age              32561 non-null  int64  \n",
            " 2   weight           32561 non-null  int64  \n",
            " 3   education        32561 non-null  object \n",
            " 4   education_years  32552 non-null  float64\n",
            " 5   marital_status   32561 non-null  object \n",
            " 6   occupation       30718 non-null  object \n",
            " 7   relationship     32561 non-null  object \n",
            " 8   race             32561 non-null  object \n",
            " 9   sex              32561 non-null  object \n",
            " 10  investment_gain  32561 non-null  int64  \n",
            " 11  investment_loss  32561 non-null  int64  \n",
            " 12  company_size     32561 non-null  int64  \n",
            " 13  weekly_hours     32561 non-null  int64  \n",
            " 14  country          31978 non-null  object \n",
            " 15  salary_range     32561 non-null  object \n",
            "dtypes: float64(1), int64(6), object(9)\n",
            "memory usage: 4.0+ MB\n"
          ],
          "name": "stdout"
        }
      ]
    },
    {
      "cell_type": "code",
      "metadata": {
        "id": "BoS7iTJ6sBOb",
        "outputId": "0dea9e92-e803-4275-d436-2dcb6822bcfb"
      },
      "source": [
        "salary.corr()"
      ],
      "id": "BoS7iTJ6sBOb",
      "execution_count": null,
      "outputs": [
        {
          "output_type": "execute_result",
          "data": {
            "text/html": [
              "<div>\n",
              "<style scoped>\n",
              "    .dataframe tbody tr th:only-of-type {\n",
              "        vertical-align: middle;\n",
              "    }\n",
              "\n",
              "    .dataframe tbody tr th {\n",
              "        vertical-align: top;\n",
              "    }\n",
              "\n",
              "    .dataframe thead th {\n",
              "        text-align: right;\n",
              "    }\n",
              "</style>\n",
              "<table border=\"1\" class=\"dataframe\">\n",
              "  <thead>\n",
              "    <tr style=\"text-align: right;\">\n",
              "      <th></th>\n",
              "      <th>age</th>\n",
              "      <th>weight</th>\n",
              "      <th>education_years</th>\n",
              "      <th>investment_gain</th>\n",
              "      <th>investment_loss</th>\n",
              "      <th>company_size</th>\n",
              "      <th>weekly_hours</th>\n",
              "    </tr>\n",
              "  </thead>\n",
              "  <tbody>\n",
              "    <tr>\n",
              "      <th>age</th>\n",
              "      <td>1.000000</td>\n",
              "      <td>-0.076646</td>\n",
              "      <td>0.036495</td>\n",
              "      <td>0.077674</td>\n",
              "      <td>0.057775</td>\n",
              "      <td>0.002589</td>\n",
              "      <td>0.068756</td>\n",
              "    </tr>\n",
              "    <tr>\n",
              "      <th>weight</th>\n",
              "      <td>-0.076646</td>\n",
              "      <td>1.000000</td>\n",
              "      <td>-0.043220</td>\n",
              "      <td>0.000432</td>\n",
              "      <td>-0.010252</td>\n",
              "      <td>0.004007</td>\n",
              "      <td>-0.018768</td>\n",
              "    </tr>\n",
              "    <tr>\n",
              "      <th>education_years</th>\n",
              "      <td>0.036495</td>\n",
              "      <td>-0.043220</td>\n",
              "      <td>1.000000</td>\n",
              "      <td>0.122649</td>\n",
              "      <td>0.079678</td>\n",
              "      <td>-0.007389</td>\n",
              "      <td>0.148050</td>\n",
              "    </tr>\n",
              "    <tr>\n",
              "      <th>investment_gain</th>\n",
              "      <td>0.077674</td>\n",
              "      <td>0.000432</td>\n",
              "      <td>0.122649</td>\n",
              "      <td>1.000000</td>\n",
              "      <td>-0.031615</td>\n",
              "      <td>0.004572</td>\n",
              "      <td>0.078409</td>\n",
              "    </tr>\n",
              "    <tr>\n",
              "      <th>investment_loss</th>\n",
              "      <td>0.057775</td>\n",
              "      <td>-0.010252</td>\n",
              "      <td>0.079678</td>\n",
              "      <td>-0.031615</td>\n",
              "      <td>1.000000</td>\n",
              "      <td>0.003726</td>\n",
              "      <td>0.054256</td>\n",
              "    </tr>\n",
              "    <tr>\n",
              "      <th>company_size</th>\n",
              "      <td>0.002589</td>\n",
              "      <td>0.004007</td>\n",
              "      <td>-0.007389</td>\n",
              "      <td>0.004572</td>\n",
              "      <td>0.003726</td>\n",
              "      <td>1.000000</td>\n",
              "      <td>0.000768</td>\n",
              "    </tr>\n",
              "    <tr>\n",
              "      <th>weekly_hours</th>\n",
              "      <td>0.068756</td>\n",
              "      <td>-0.018768</td>\n",
              "      <td>0.148050</td>\n",
              "      <td>0.078409</td>\n",
              "      <td>0.054256</td>\n",
              "      <td>0.000768</td>\n",
              "      <td>1.000000</td>\n",
              "    </tr>\n",
              "  </tbody>\n",
              "</table>\n",
              "</div>"
            ],
            "text/plain": [
              "                      age    weight  education_years  investment_gain  \\\n",
              "age              1.000000 -0.076646         0.036495         0.077674   \n",
              "weight          -0.076646  1.000000        -0.043220         0.000432   \n",
              "education_years  0.036495 -0.043220         1.000000         0.122649   \n",
              "investment_gain  0.077674  0.000432         0.122649         1.000000   \n",
              "investment_loss  0.057775 -0.010252         0.079678        -0.031615   \n",
              "company_size     0.002589  0.004007        -0.007389         0.004572   \n",
              "weekly_hours     0.068756 -0.018768         0.148050         0.078409   \n",
              "\n",
              "                 investment_loss  company_size  weekly_hours  \n",
              "age                     0.057775      0.002589      0.068756  \n",
              "weight                 -0.010252      0.004007     -0.018768  \n",
              "education_years         0.079678     -0.007389      0.148050  \n",
              "investment_gain        -0.031615      0.004572      0.078409  \n",
              "investment_loss         1.000000      0.003726      0.054256  \n",
              "company_size            0.003726      1.000000      0.000768  \n",
              "weekly_hours            0.054256      0.000768      1.000000  "
            ]
          },
          "metadata": {
            "tags": []
          },
          "execution_count": 11
        }
      ]
    },
    {
      "cell_type": "code",
      "metadata": {
        "scrolled": false,
        "id": "bCAzfbSZsBOb",
        "outputId": "7cf083bf-e6ef-463b-9504-18002655d549"
      },
      "source": [
        "plt.figure(figsize =(10,8))\n",
        "sns.heatmap(salary.corr(), square=True, annot=True, cbar=True, cmap=\"Blues\");"
      ],
      "id": "bCAzfbSZsBOb",
      "execution_count": null,
      "outputs": [
        {
          "output_type": "display_data",
          "data": {
            "image/png": "[encoded data removed]",
            "text/plain": [
              "<Figure size 720x576 with 2 Axes>"
            ]
          },
          "metadata": {
            "tags": [],
            "needs_background": "light"
          }
        }
      ]
    },
    {
      "cell_type": "markdown",
      "metadata": {
        "id": "g1W9eNumsBOb"
      },
      "source": [
        "### Positive Correlation\n",
        "- Age and Investment Gain\n",
        "- Age and Investment Loss\n",
        "- Weekly Hours and Age\n",
        "- Weekly Hours and Education Years\n",
        "- Education Years and Investment Gain\n",
        "- Education Years and Investment Lost\n",
        "\n",
        "### Negative Correlation\n",
        "- Age and Weight\n",
        "- Weight and Investment Lost\n",
        "- Weight and Weekly Hours\n",
        "- Investment Gain and Investment Loss\n",
        "- Education Years and Company Size\n"
      ],
      "id": "g1W9eNumsBOb"
    },
    {
      "cell_type": "code",
      "metadata": {
        "id": "aTK-W1jIsBOc",
        "outputId": "8886aabd-d4ac-49bc-8d66-16a49e525f83"
      },
      "source": [
        "salary.head(5)"
      ],
      "id": "aTK-W1jIsBOc",
      "execution_count": null,
      "outputs": [
        {
          "output_type": "execute_result",
          "data": {
            "text/html": [
              "<div>\n",
              "<style scoped>\n",
              "    .dataframe tbody tr th:only-of-type {\n",
              "        vertical-align: middle;\n",
              "    }\n",
              "\n",
              "    .dataframe tbody tr th {\n",
              "        vertical-align: top;\n",
              "    }\n",
              "\n",
              "    .dataframe thead th {\n",
              "        text-align: right;\n",
              "    }\n",
              "</style>\n",
              "<table border=\"1\" class=\"dataframe\">\n",
              "  <thead>\n",
              "    <tr style=\"text-align: right;\">\n",
              "      <th></th>\n",
              "      <th>work_type</th>\n",
              "      <th>age</th>\n",
              "      <th>weight</th>\n",
              "      <th>education</th>\n",
              "      <th>education_years</th>\n",
              "      <th>marital_status</th>\n",
              "      <th>occupation</th>\n",
              "      <th>relationship</th>\n",
              "      <th>race</th>\n",
              "      <th>sex</th>\n",
              "      <th>investment_gain</th>\n",
              "      <th>investment_loss</th>\n",
              "      <th>company_size</th>\n",
              "      <th>weekly_hours</th>\n",
              "      <th>country</th>\n",
              "      <th>salary_range</th>\n",
              "    </tr>\n",
              "  </thead>\n",
              "  <tbody>\n",
              "    <tr>\n",
              "      <th>0</th>\n",
              "      <td>Private</td>\n",
              "      <td>19</td>\n",
              "      <td>216804</td>\n",
              "      <td>7th-8th</td>\n",
              "      <td>4.0</td>\n",
              "      <td>Never-married</td>\n",
              "      <td>Other-service</td>\n",
              "      <td>Own-child</td>\n",
              "      <td>White</td>\n",
              "      <td>Male</td>\n",
              "      <td>0</td>\n",
              "      <td>0</td>\n",
              "      <td>825</td>\n",
              "      <td>33</td>\n",
              "      <td>United-States</td>\n",
              "      <td>low</td>\n",
              "    </tr>\n",
              "    <tr>\n",
              "      <th>1</th>\n",
              "      <td>Private</td>\n",
              "      <td>23</td>\n",
              "      <td>207546</td>\n",
              "      <td>11th</td>\n",
              "      <td>7.0</td>\n",
              "      <td>Married-civ-spouse</td>\n",
              "      <td>Machine-op-inspct</td>\n",
              "      <td>Husband</td>\n",
              "      <td>White</td>\n",
              "      <td>Male</td>\n",
              "      <td>0</td>\n",
              "      <td>0</td>\n",
              "      <td>865</td>\n",
              "      <td>40</td>\n",
              "      <td>United-States</td>\n",
              "      <td>low</td>\n",
              "    </tr>\n",
              "    <tr>\n",
              "      <th>2</th>\n",
              "      <td>Private</td>\n",
              "      <td>41</td>\n",
              "      <td>253759</td>\n",
              "      <td>HS-grad</td>\n",
              "      <td>9.0</td>\n",
              "      <td>Never-married</td>\n",
              "      <td>Sales</td>\n",
              "      <td>Unmarried</td>\n",
              "      <td>Black</td>\n",
              "      <td>Female</td>\n",
              "      <td>0</td>\n",
              "      <td>0</td>\n",
              "      <td>727</td>\n",
              "      <td>40</td>\n",
              "      <td>United-States</td>\n",
              "      <td>low</td>\n",
              "    </tr>\n",
              "    <tr>\n",
              "      <th>3</th>\n",
              "      <td>Private</td>\n",
              "      <td>28</td>\n",
              "      <td>180928</td>\n",
              "      <td>Some-college</td>\n",
              "      <td>10.0</td>\n",
              "      <td>Married-civ-spouse</td>\n",
              "      <td>Handlers-cleaners</td>\n",
              "      <td>Husband</td>\n",
              "      <td>White</td>\n",
              "      <td>Male</td>\n",
              "      <td>5013</td>\n",
              "      <td>0</td>\n",
              "      <td>328</td>\n",
              "      <td>55</td>\n",
              "      <td>United-States</td>\n",
              "      <td>low</td>\n",
              "    </tr>\n",
              "    <tr>\n",
              "      <th>4</th>\n",
              "      <td>Private</td>\n",
              "      <td>17</td>\n",
              "      <td>208463</td>\n",
              "      <td>HS-grad</td>\n",
              "      <td>9.0</td>\n",
              "      <td>Never-married</td>\n",
              "      <td>Sales</td>\n",
              "      <td>Own-child</td>\n",
              "      <td>White</td>\n",
              "      <td>Female</td>\n",
              "      <td>0</td>\n",
              "      <td>0</td>\n",
              "      <td>977</td>\n",
              "      <td>20</td>\n",
              "      <td>United-States</td>\n",
              "      <td>low</td>\n",
              "    </tr>\n",
              "  </tbody>\n",
              "</table>\n",
              "</div>"
            ],
            "text/plain": [
              "  work_type  age  weight     education  education_years      marital_status  \\\n",
              "0   Private   19  216804       7th-8th              4.0       Never-married   \n",
              "1   Private   23  207546          11th              7.0  Married-civ-spouse   \n",
              "2   Private   41  253759       HS-grad              9.0       Never-married   \n",
              "3   Private   28  180928  Some-college             10.0  Married-civ-spouse   \n",
              "4   Private   17  208463       HS-grad              9.0       Never-married   \n",
              "\n",
              "          occupation relationship   race     sex  investment_gain  \\\n",
              "0      Other-service    Own-child  White    Male                0   \n",
              "1  Machine-op-inspct      Husband  White    Male                0   \n",
              "2              Sales    Unmarried  Black  Female                0   \n",
              "3  Handlers-cleaners      Husband  White    Male             5013   \n",
              "4              Sales    Own-child  White  Female                0   \n",
              "\n",
              "   investment_loss  company_size  weekly_hours        country salary_range  \n",
              "0                0           825            33  United-States          low  \n",
              "1                0           865            40  United-States          low  \n",
              "2                0           727            40  United-States          low  \n",
              "3                0           328            55  United-States          low  \n",
              "4                0           977            20  United-States          low  "
            ]
          },
          "metadata": {
            "tags": []
          },
          "execution_count": 34
        }
      ]
    },
    {
      "cell_type": "code",
      "metadata": {
        "id": "NWPonAUxsBOc",
        "outputId": "7512d1e3-c1dc-414d-86a0-6fa1052c6410"
      },
      "source": [
        "sns.barplot(x='salary_range',y='investment_gain',data=salary,estimator=np.std,hue='sex')"
      ],
      "id": "NWPonAUxsBOc",
      "execution_count": null,
      "outputs": [
        {
          "output_type": "execute_result",
          "data": {
            "text/plain": [
              "<matplotlib.axes._subplots.AxesSubplot at 0x1fec5b402e0>"
            ]
          },
          "metadata": {
            "tags": []
          },
          "execution_count": 402
        },
        {
          "output_type": "display_data",
          "data": {
            "image/png": "[encoded data removed]",
            "text/plain": [
              "<Figure size 432x288 with 1 Axes>"
            ]
          },
          "metadata": {
            "tags": [],
            "needs_background": "light"
          }
        }
      ]
    },
    {
      "cell_type": "code",
      "metadata": {
        "id": "It6c0mDSsBOc",
        "outputId": "4e8c51a9-f4a8-40e9-d84c-d761103ec32e"
      },
      "source": [
        "sns.barplot(x='salary_range',y='education_years',data=salary)"
      ],
      "id": "It6c0mDSsBOc",
      "execution_count": null,
      "outputs": [
        {
          "output_type": "execute_result",
          "data": {
            "text/plain": [
              "<matplotlib.axes._subplots.AxesSubplot at 0x1fec84073a0>"
            ]
          },
          "metadata": {
            "tags": []
          },
          "execution_count": 427
        },
        {
          "output_type": "display_data",
          "data": {
            "image/png": "[encoded data removed]",
            "text/plain": [
              "<Figure size 432x288 with 1 Axes>"
            ]
          },
          "metadata": {
            "tags": [],
            "needs_background": "light"
          }
        }
      ]
    },
    {
      "cell_type": "code",
      "metadata": {
        "id": "3D3MkheOsBOc",
        "outputId": "1f181ff9-8209-4641-f8c8-dd51179609b4"
      },
      "source": [
        "sns.barplot(x='salary_range',y='weekly_hours',data=salary, hue='sex')"
      ],
      "id": "3D3MkheOsBOc",
      "execution_count": null,
      "outputs": [
        {
          "output_type": "execute_result",
          "data": {
            "text/plain": [
              "<matplotlib.axes._subplots.AxesSubplot at 0x1fec81be340>"
            ]
          },
          "metadata": {
            "tags": []
          },
          "execution_count": 418
        },
        {
          "output_type": "display_data",
          "data": {
            "image/png": "[encoded data removed]",
            "text/plain": [
              "<Figure size 432x288 with 1 Axes>"
            ]
          },
          "metadata": {
            "tags": [],
            "needs_background": "light"
          }
        }
      ]
    },
    {
      "cell_type": "code",
      "metadata": {
        "id": "s42dyEtCsBOd",
        "outputId": "c66bfd32-5d4c-454f-e68e-d90a13d1634a"
      },
      "source": [
        "plt.figure(figsize =(16,7))\n",
        "sns.barplot(x='race',y='investment_gain',data=salary, hue='sex',palette='vlag')\n",
        "\n",
        "plt.xlabel('Race',fontsize = 15,color='blue')\n",
        "plt.ylabel('Investment Gain',fontsize = 15,color='blue')\n",
        "plt.title('- Investment Gain of Different Races -',fontsize = 25)"
      ],
      "id": "s42dyEtCsBOd",
      "execution_count": null,
      "outputs": [
        {
          "output_type": "execute_result",
          "data": {
            "text/plain": [
              "Text(0.5, 1.0, '- Investment Gain of Different Races -')"
            ]
          },
          "metadata": {
            "tags": []
          },
          "execution_count": 360
        },
        {
          "output_type": "display_data",
          "data": {
            "image/png": "[encoded data removed]",
            "text/plain": [
              "<Figure size 1152x504 with 1 Axes>"
            ]
          },
          "metadata": {
            "tags": [],
            "needs_background": "light"
          }
        }
      ]
    },
    {
      "cell_type": "markdown",
      "metadata": {
        "id": "6UZzaKDjsBOd"
      },
      "source": [
        "#### Asian Pacific Islanders has the highest investment gain while American Indian Eskimo has the lowest"
      ],
      "id": "6UZzaKDjsBOd"
    },
    {
      "cell_type": "code",
      "metadata": {
        "id": "yzmx3HSGsBOd",
        "outputId": "fe66e6be-ef8b-49c1-d648-2f40b4a099cc"
      },
      "source": [
        "co = salary.groupby('salary_range')\n",
        "top5 = co['country'].value_counts().tail(5)\n",
        "\n",
        "x = top5\n",
        "y = top5['low'].index.tolist()\n",
        "\n",
        "fig, ex = plt.subplots(figsize=(10, 6))\n",
        "explode = (0.1,0.1,0.1,0.1,0.1)\n",
        "plt.pie(x, explode=explode,labels=y, autopct='%1.1f%%', shadow=True)\n",
        "plt.title('- Top 5 Countries with Most Low Income Earners -',fontsize = 25)\n",
        "plt.show()"
      ],
      "id": "yzmx3HSGsBOd",
      "execution_count": null,
      "outputs": [
        {
          "output_type": "display_data",
          "data": {
            "image/png": "[encoded data removed]",
            "text/plain": [
              "<Figure size 720x432 with 1 Axes>"
            ]
          },
          "metadata": {
            "tags": []
          }
        }
      ]
    },
    {
      "cell_type": "markdown",
      "metadata": {
        "id": "hDUpNcGvsBOd"
      },
      "source": [
        "### Honduras has the highest number of people that are considered in the low salary range"
      ],
      "id": "hDUpNcGvsBOd"
    },
    {
      "cell_type": "code",
      "metadata": {
        "id": "c6fSAsadsBOe",
        "outputId": "5c1988e2-a9b1-4f6c-e171-7018856d2951"
      },
      "source": [
        "co = salary.groupby('salary_range')\n",
        "top5 = co['country'].value_counts().head(5)\n",
        "\n",
        "x = top5\n",
        "y = top5['high'].index.tolist()\n",
        "\n",
        "plt.figure(figsize =(15,8))\n",
        "sns.barplot(x=x,y=y,data=salary,palette='vlag')\n",
        "\n",
        "plt.xlabel('Number of People',fontsize = 15,color='blue')\n",
        "plt.ylabel('Countries',fontsize = 15,color='blue')\n",
        "plt.title('- Top 5 Countries with Most Number of High Income Earners -',fontsize = 25)"
      ],
      "id": "c6fSAsadsBOe",
      "execution_count": null,
      "outputs": [
        {
          "output_type": "execute_result",
          "data": {
            "text/plain": [
              "Text(0.5, 1.0, '- Top 5 Countries with Most Number of High Income Earners -')"
            ]
          },
          "metadata": {
            "tags": []
          },
          "execution_count": 429
        },
        {
          "output_type": "display_data",
          "data": {
            "image/png": "[encoded data removed]",
            "text/plain": [
              "<Figure size 1080x576 with 1 Axes>"
            ]
          },
          "metadata": {
            "tags": [],
            "needs_background": "light"
          }
        }
      ]
    },
    {
      "cell_type": "code",
      "metadata": {
        "id": "fyU3OhJLsBOe",
        "outputId": "ed15738f-934e-4d55-f5aa-81430f0a74ce"
      },
      "source": [
        "plot = sns.countplot(salary['education'])\n",
        "plot.set_xticklabels(plot.get_xticklabels(),rotation=90)"
      ],
      "id": "fyU3OhJLsBOe",
      "execution_count": null,
      "outputs": [
        {
          "output_type": "execute_result",
          "data": {
            "text/plain": [
              "[Text(0, 0, '7th-8th'),\n",
              " Text(0, 0, '11th'),\n",
              " Text(0, 0, 'HS-grad'),\n",
              " Text(0, 0, 'Some-college'),\n",
              " Text(0, 0, 'Bachelors'),\n",
              " Text(0, 0, 'Assoc-acdm'),\n",
              " Text(0, 0, '10th'),\n",
              " Text(0, 0, 'Preschool'),\n",
              " Text(0, 0, 'Assoc-voc'),\n",
              " Text(0, 0, '12th'),\n",
              " Text(0, 0, 'Masters'),\n",
              " Text(0, 0, '5th-6th'),\n",
              " Text(0, 0, 'Doctorate'),\n",
              " Text(0, 0, 'Prof-school'),\n",
              " Text(0, 0, '9th'),\n",
              " Text(0, 0, '1st-4th')]"
            ]
          },
          "metadata": {
            "tags": []
          },
          "execution_count": 381
        },
        {
          "output_type": "display_data",
          "data": {
            "image/png": "[encoded data removed]",
            "text/plain": [
              "<Figure size 432x288 with 1 Axes>"
            ]
          },
          "metadata": {
            "tags": [],
            "needs_background": "light"
          }
        }
      ]
    },
    {
      "cell_type": "code",
      "metadata": {
        "id": "DEi08PzhsBOe",
        "outputId": "ad49d9de-f1fb-43cc-aa0d-d5996b0f2d8f"
      },
      "source": [
        "plot = sns.countplot(salary['salary_range'])\n",
        "plot.set_xticklabels(plot.get_xticklabels())"
      ],
      "id": "DEi08PzhsBOe",
      "execution_count": null,
      "outputs": [
        {
          "output_type": "execute_result",
          "data": {
            "text/plain": [
              "[Text(0, 0, 'low'), Text(0, 0, 'high')]"
            ]
          },
          "metadata": {
            "tags": []
          },
          "execution_count": 405
        },
        {
          "output_type": "display_data",
          "data": {
            "image/png": "[encoded data removed]",
            "text/plain": [
              "<Figure size 432x288 with 1 Axes>"
            ]
          },
          "metadata": {
            "tags": [],
            "needs_background": "light"
          }
        }
      ]
    },
    {
      "cell_type": "code",
      "metadata": {
        "id": "6hCv0msasBOe",
        "outputId": "eda12de3-2a13-4057-a4c4-7e1c5ce8a328"
      },
      "source": [
        "plot = sns.countplot(salary['country'])\n",
        "plot.set_xticklabels(plot.get_xticklabels(),rotation=90)"
      ],
      "id": "6hCv0msasBOe",
      "execution_count": null,
      "outputs": [
        {
          "output_type": "execute_result",
          "data": {
            "text/plain": [
              "[Text(0, 0, 'United-States'),\n",
              " Text(0, 0, 'Philippines'),\n",
              " Text(0, 0, 'Mexico'),\n",
              " Text(0, 0, 'El-Salvador'),\n",
              " Text(0, 0, 'Canada'),\n",
              " Text(0, 0, 'Cuba'),\n",
              " Text(0, 0, 'Guatemala'),\n",
              " Text(0, 0, 'South'),\n",
              " Text(0, 0, 'Japan'),\n",
              " Text(0, 0, 'Peru'),\n",
              " Text(0, 0, 'Italy'),\n",
              " Text(0, 0, 'Puerto-Rico'),\n",
              " Text(0, 0, 'Portugal'),\n",
              " Text(0, 0, 'Jamaica'),\n",
              " Text(0, 0, 'India'),\n",
              " Text(0, 0, 'Germany'),\n",
              " Text(0, 0, 'China'),\n",
              " Text(0, 0, 'Haiti'),\n",
              " Text(0, 0, 'France'),\n",
              " Text(0, 0, 'Laos'),\n",
              " Text(0, 0, 'Poland'),\n",
              " Text(0, 0, 'Dominican-Republic'),\n",
              " Text(0, 0, 'Vietnam'),\n",
              " Text(0, 0, 'Cambodia'),\n",
              " Text(0, 0, 'Columbia'),\n",
              " Text(0, 0, 'England'),\n",
              " Text(0, 0, 'Nicaragua'),\n",
              " Text(0, 0, 'Hungary'),\n",
              " Text(0, 0, 'Trinadad&Tobago'),\n",
              " Text(0, 0, 'Ireland'),\n",
              " Text(0, 0, 'Scotland'),\n",
              " Text(0, 0, 'Honduras'),\n",
              " Text(0, 0, 'Ecuador'),\n",
              " Text(0, 0, 'Iran'),\n",
              " Text(0, 0, 'Taiwan'),\n",
              " Text(0, 0, 'Greece'),\n",
              " Text(0, 0, 'Hong'),\n",
              " Text(0, 0, 'Outlying-US(Guam-USVI-etc)'),\n",
              " Text(0, 0, 'Yugoslavia'),\n",
              " Text(0, 0, 'Thailand'),\n",
              " Text(0, 0, 'Holand-Netherlands')]"
            ]
          },
          "metadata": {
            "tags": []
          },
          "execution_count": 441
        },
        {
          "output_type": "display_data",
          "data": {
            "image/png": "[encoded data removed]",
            "text/plain": [
              "<Figure size 432x288 with 1 Axes>"
            ]
          },
          "metadata": {
            "tags": [],
            "needs_background": "light"
          }
        }
      ]
    },
    {
      "cell_type": "markdown",
      "metadata": {
        "id": "Rh6CcO8AsBOf"
      },
      "source": [
        "---"
      ],
      "id": "Rh6CcO8AsBOf"
    },
    {
      "cell_type": "markdown",
      "metadata": {
        "id": "r-WFv10zsBOf"
      },
      "source": [
        "# Data Preprocessing"
      ],
      "id": "r-WFv10zsBOf"
    },
    {
      "cell_type": "markdown",
      "metadata": {
        "id": "cCqzKD2-sBOf"
      },
      "source": [
        "### Handle Missing Data"
      ],
      "id": "cCqzKD2-sBOf"
    },
    {
      "cell_type": "code",
      "metadata": {
        "scrolled": true,
        "id": "rN5Etlq0sBOf",
        "outputId": "db324fc2-e458-414d-c600-2044b466682e"
      },
      "source": [
        "salary.isnull().sum()"
      ],
      "id": "rN5Etlq0sBOf",
      "execution_count": null,
      "outputs": [
        {
          "output_type": "execute_result",
          "data": {
            "text/plain": [
              "work_type          1836\n",
              "age                   0\n",
              "weight                0\n",
              "education             0\n",
              "education_years       9\n",
              "marital_status        0\n",
              "occupation         1843\n",
              "relationship          0\n",
              "race                  0\n",
              "sex                   0\n",
              "investment_gain       0\n",
              "investment_loss       0\n",
              "company_size          0\n",
              "weekly_hours          0\n",
              "country             583\n",
              "salary_range          0\n",
              "dtype: int64"
            ]
          },
          "metadata": {
            "tags": []
          },
          "execution_count": 12
        }
      ]
    },
    {
      "cell_type": "code",
      "metadata": {
        "id": "n54zLl5msBOf",
        "outputId": "6db011b8-403c-40d9-f7ac-8a8cc60443b0"
      },
      "source": [
        "#Drop First - for new_salary \n",
        "import copy\n",
        "new_salary = copy.deepcopy(salary)\n",
        "new_salary.dropna(inplace = True)\n",
        "print('Original Attribute Shape:',salary.shape)\n",
        "print('Clean Attribute Shape:',new_salary.shape)"
      ],
      "id": "n54zLl5msBOf",
      "execution_count": null,
      "outputs": [
        {
          "output_type": "stream",
          "text": [
            "Original Attribute Shape: (32561, 16)\n",
            "Clean Attribute Shape: (30153, 16)\n"
          ],
          "name": "stdout"
        }
      ]
    },
    {
      "cell_type": "markdown",
      "metadata": {
        "id": "oRPQF5EXsBOg"
      },
      "source": [
        "* Result: 32561-30153 = 2408 missing values (have been removed)"
      ],
      "id": "oRPQF5EXsBOg"
    },
    {
      "cell_type": "code",
      "metadata": {
        "scrolled": false,
        "id": "8xBO2rl-sBOg",
        "outputId": "fcf36a34-64f2-4cce-8bb8-558e5e68e25f"
      },
      "source": [
        "new_salary.head(10)"
      ],
      "id": "8xBO2rl-sBOg",
      "execution_count": null,
      "outputs": [
        {
          "output_type": "execute_result",
          "data": {
            "text/html": [
              "<div>\n",
              "<style scoped>\n",
              "    .dataframe tbody tr th:only-of-type {\n",
              "        vertical-align: middle;\n",
              "    }\n",
              "\n",
              "    .dataframe tbody tr th {\n",
              "        vertical-align: top;\n",
              "    }\n",
              "\n",
              "    .dataframe thead th {\n",
              "        text-align: right;\n",
              "    }\n",
              "</style>\n",
              "<table border=\"1\" class=\"dataframe\">\n",
              "  <thead>\n",
              "    <tr style=\"text-align: right;\">\n",
              "      <th></th>\n",
              "      <th>work_type</th>\n",
              "      <th>age</th>\n",
              "      <th>weight</th>\n",
              "      <th>education</th>\n",
              "      <th>education_years</th>\n",
              "      <th>marital_status</th>\n",
              "      <th>occupation</th>\n",
              "      <th>relationship</th>\n",
              "      <th>race</th>\n",
              "      <th>sex</th>\n",
              "      <th>investment_gain</th>\n",
              "      <th>investment_loss</th>\n",
              "      <th>company_size</th>\n",
              "      <th>weekly_hours</th>\n",
              "      <th>country</th>\n",
              "      <th>salary_range</th>\n",
              "    </tr>\n",
              "  </thead>\n",
              "  <tbody>\n",
              "    <tr>\n",
              "      <th>0</th>\n",
              "      <td>Private</td>\n",
              "      <td>19</td>\n",
              "      <td>216804</td>\n",
              "      <td>7th-8th</td>\n",
              "      <td>4.0</td>\n",
              "      <td>Never-married</td>\n",
              "      <td>Other-service</td>\n",
              "      <td>Own-child</td>\n",
              "      <td>White</td>\n",
              "      <td>Male</td>\n",
              "      <td>0</td>\n",
              "      <td>0</td>\n",
              "      <td>825</td>\n",
              "      <td>33</td>\n",
              "      <td>United-States</td>\n",
              "      <td>low</td>\n",
              "    </tr>\n",
              "    <tr>\n",
              "      <th>1</th>\n",
              "      <td>Private</td>\n",
              "      <td>23</td>\n",
              "      <td>207546</td>\n",
              "      <td>11th</td>\n",
              "      <td>7.0</td>\n",
              "      <td>Married-civ-spouse</td>\n",
              "      <td>Machine-op-inspct</td>\n",
              "      <td>Husband</td>\n",
              "      <td>White</td>\n",
              "      <td>Male</td>\n",
              "      <td>0</td>\n",
              "      <td>0</td>\n",
              "      <td>865</td>\n",
              "      <td>40</td>\n",
              "      <td>United-States</td>\n",
              "      <td>low</td>\n",
              "    </tr>\n",
              "    <tr>\n",
              "      <th>2</th>\n",
              "      <td>Private</td>\n",
              "      <td>41</td>\n",
              "      <td>253759</td>\n",
              "      <td>HS-grad</td>\n",
              "      <td>9.0</td>\n",
              "      <td>Never-married</td>\n",
              "      <td>Sales</td>\n",
              "      <td>Unmarried</td>\n",
              "      <td>Black</td>\n",
              "      <td>Female</td>\n",
              "      <td>0</td>\n",
              "      <td>0</td>\n",
              "      <td>727</td>\n",
              "      <td>40</td>\n",
              "      <td>United-States</td>\n",
              "      <td>low</td>\n",
              "    </tr>\n",
              "    <tr>\n",
              "      <th>3</th>\n",
              "      <td>Private</td>\n",
              "      <td>28</td>\n",
              "      <td>180928</td>\n",
              "      <td>Some-college</td>\n",
              "      <td>10.0</td>\n",
              "      <td>Married-civ-spouse</td>\n",
              "      <td>Handlers-cleaners</td>\n",
              "      <td>Husband</td>\n",
              "      <td>White</td>\n",
              "      <td>Male</td>\n",
              "      <td>5013</td>\n",
              "      <td>0</td>\n",
              "      <td>328</td>\n",
              "      <td>55</td>\n",
              "      <td>United-States</td>\n",
              "      <td>low</td>\n",
              "    </tr>\n",
              "    <tr>\n",
              "      <th>4</th>\n",
              "      <td>Private</td>\n",
              "      <td>17</td>\n",
              "      <td>208463</td>\n",
              "      <td>HS-grad</td>\n",
              "      <td>9.0</td>\n",
              "      <td>Never-married</td>\n",
              "      <td>Sales</td>\n",
              "      <td>Own-child</td>\n",
              "      <td>White</td>\n",
              "      <td>Female</td>\n",
              "      <td>0</td>\n",
              "      <td>0</td>\n",
              "      <td>977</td>\n",
              "      <td>20</td>\n",
              "      <td>United-States</td>\n",
              "      <td>low</td>\n",
              "    </tr>\n",
              "    <tr>\n",
              "      <th>5</th>\n",
              "      <td>Private</td>\n",
              "      <td>73</td>\n",
              "      <td>333676</td>\n",
              "      <td>HS-grad</td>\n",
              "      <td>9.0</td>\n",
              "      <td>Married-civ-spouse</td>\n",
              "      <td>Farming-fishing</td>\n",
              "      <td>Husband</td>\n",
              "      <td>White</td>\n",
              "      <td>Male</td>\n",
              "      <td>0</td>\n",
              "      <td>0</td>\n",
              "      <td>118</td>\n",
              "      <td>50</td>\n",
              "      <td>United-States</td>\n",
              "      <td>low</td>\n",
              "    </tr>\n",
              "    <tr>\n",
              "      <th>6</th>\n",
              "      <td>Local-gov</td>\n",
              "      <td>65</td>\n",
              "      <td>24824</td>\n",
              "      <td>HS-grad</td>\n",
              "      <td>9.0</td>\n",
              "      <td>Married-civ-spouse</td>\n",
              "      <td>Craft-repair</td>\n",
              "      <td>Husband</td>\n",
              "      <td>White</td>\n",
              "      <td>Male</td>\n",
              "      <td>0</td>\n",
              "      <td>0</td>\n",
              "      <td>793</td>\n",
              "      <td>40</td>\n",
              "      <td>United-States</td>\n",
              "      <td>low</td>\n",
              "    </tr>\n",
              "    <tr>\n",
              "      <th>7</th>\n",
              "      <td>Private</td>\n",
              "      <td>37</td>\n",
              "      <td>96330</td>\n",
              "      <td>Some-college</td>\n",
              "      <td>10.0</td>\n",
              "      <td>Never-married</td>\n",
              "      <td>Exec-managerial</td>\n",
              "      <td>Unmarried</td>\n",
              "      <td>Black</td>\n",
              "      <td>Female</td>\n",
              "      <td>0</td>\n",
              "      <td>0</td>\n",
              "      <td>193</td>\n",
              "      <td>40</td>\n",
              "      <td>United-States</td>\n",
              "      <td>low</td>\n",
              "    </tr>\n",
              "    <tr>\n",
              "      <th>8</th>\n",
              "      <td>Private</td>\n",
              "      <td>53</td>\n",
              "      <td>47396</td>\n",
              "      <td>HS-grad</td>\n",
              "      <td>9.0</td>\n",
              "      <td>Married-civ-spouse</td>\n",
              "      <td>Craft-repair</td>\n",
              "      <td>Husband</td>\n",
              "      <td>White</td>\n",
              "      <td>Male</td>\n",
              "      <td>0</td>\n",
              "      <td>0</td>\n",
              "      <td>427</td>\n",
              "      <td>40</td>\n",
              "      <td>United-States</td>\n",
              "      <td>low</td>\n",
              "    </tr>\n",
              "    <tr>\n",
              "      <th>10</th>\n",
              "      <td>Local-gov</td>\n",
              "      <td>30</td>\n",
              "      <td>44566</td>\n",
              "      <td>Bachelors</td>\n",
              "      <td>13.0</td>\n",
              "      <td>Married-civ-spouse</td>\n",
              "      <td>Prof-specialty</td>\n",
              "      <td>Husband</td>\n",
              "      <td>White</td>\n",
              "      <td>Male</td>\n",
              "      <td>0</td>\n",
              "      <td>0</td>\n",
              "      <td>833</td>\n",
              "      <td>80</td>\n",
              "      <td>United-States</td>\n",
              "      <td>low</td>\n",
              "    </tr>\n",
              "  </tbody>\n",
              "</table>\n",
              "</div>"
            ],
            "text/plain": [
              "    work_type  age  weight     education  education_years      marital_status  \\\n",
              "0     Private   19  216804       7th-8th              4.0       Never-married   \n",
              "1     Private   23  207546          11th              7.0  Married-civ-spouse   \n",
              "2     Private   41  253759       HS-grad              9.0       Never-married   \n",
              "3     Private   28  180928  Some-college             10.0  Married-civ-spouse   \n",
              "4     Private   17  208463       HS-grad              9.0       Never-married   \n",
              "5     Private   73  333676       HS-grad              9.0  Married-civ-spouse   \n",
              "6   Local-gov   65   24824       HS-grad              9.0  Married-civ-spouse   \n",
              "7     Private   37   96330  Some-college             10.0       Never-married   \n",
              "8     Private   53   47396       HS-grad              9.0  Married-civ-spouse   \n",
              "10  Local-gov   30   44566     Bachelors             13.0  Married-civ-spouse   \n",
              "\n",
              "           occupation relationship   race     sex  investment_gain  \\\n",
              "0       Other-service    Own-child  White    Male                0   \n",
              "1   Machine-op-inspct      Husband  White    Male                0   \n",
              "2               Sales    Unmarried  Black  Female                0   \n",
              "3   Handlers-cleaners      Husband  White    Male             5013   \n",
              "4               Sales    Own-child  White  Female                0   \n",
              "5     Farming-fishing      Husband  White    Male                0   \n",
              "6        Craft-repair      Husband  White    Male                0   \n",
              "7     Exec-managerial    Unmarried  Black  Female                0   \n",
              "8        Craft-repair      Husband  White    Male                0   \n",
              "10     Prof-specialty      Husband  White    Male                0   \n",
              "\n",
              "    investment_loss  company_size  weekly_hours        country salary_range  \n",
              "0                 0           825            33  United-States          low  \n",
              "1                 0           865            40  United-States          low  \n",
              "2                 0           727            40  United-States          low  \n",
              "3                 0           328            55  United-States          low  \n",
              "4                 0           977            20  United-States          low  \n",
              "5                 0           118            50  United-States          low  \n",
              "6                 0           793            40  United-States          low  \n",
              "7                 0           193            40  United-States          low  \n",
              "8                 0           427            40  United-States          low  \n",
              "10                0           833            80  United-States          low  "
            ]
          },
          "metadata": {
            "tags": []
          },
          "execution_count": 14
        }
      ]
    },
    {
      "cell_type": "code",
      "metadata": {
        "id": "1gNxDSDPsBOg",
        "outputId": "38075d24-87d0-4770-de6c-8ae893db7dd0"
      },
      "source": [
        "new_salary.info()"
      ],
      "id": "1gNxDSDPsBOg",
      "execution_count": null,
      "outputs": [
        {
          "output_type": "stream",
          "text": [
            "<class 'pandas.core.frame.DataFrame'>\n",
            "Int64Index: 30153 entries, 0 to 32558\n",
            "Data columns (total 16 columns):\n",
            " #   Column           Non-Null Count  Dtype  \n",
            "---  ------           --------------  -----  \n",
            " 0   work_type        30153 non-null  object \n",
            " 1   age              30153 non-null  int64  \n",
            " 2   weight           30153 non-null  int64  \n",
            " 3   education        30153 non-null  object \n",
            " 4   education_years  30153 non-null  float64\n",
            " 5   marital_status   30153 non-null  object \n",
            " 6   occupation       30153 non-null  object \n",
            " 7   relationship     30153 non-null  object \n",
            " 8   race             30153 non-null  object \n",
            " 9   sex              30153 non-null  object \n",
            " 10  investment_gain  30153 non-null  int64  \n",
            " 11  investment_loss  30153 non-null  int64  \n",
            " 12  company_size     30153 non-null  int64  \n",
            " 13  weekly_hours     30153 non-null  int64  \n",
            " 14  country          30153 non-null  object \n",
            " 15  salary_range     30153 non-null  object \n",
            "dtypes: float64(1), int64(6), object(9)\n",
            "memory usage: 3.9+ MB\n"
          ],
          "name": "stdout"
        }
      ]
    },
    {
      "cell_type": "markdown",
      "metadata": {
        "id": "5sGqBPc2sBOg"
      },
      "source": [
        "---"
      ],
      "id": "5sGqBPc2sBOg"
    },
    {
      "cell_type": "markdown",
      "metadata": {
        "id": "4SXDr4QysBOg"
      },
      "source": [
        "### Separate output vector from input matrix "
      ],
      "id": "4SXDr4QysBOg"
    },
    {
      "cell_type": "code",
      "metadata": {
        "id": "a3NnyWKBsBOg"
      },
      "source": [
        "#Drop targeted variable from the matrix X as the input matrix Y \n",
        "X = new_salary.drop('salary_range', axis = 1)\n",
        "y = new_salary['salary_range']"
      ],
      "id": "a3NnyWKBsBOg",
      "execution_count": null,
      "outputs": []
    },
    {
      "cell_type": "code",
      "metadata": {
        "id": "5dW1DbuosBOh",
        "outputId": "ec280a00-f11e-402a-8f20-772a5533835a"
      },
      "source": [
        "#Show the shape and type class of the dataFrame for matrix X and Y\n",
        "print(\"Shape original dataFrame\", salary.shape)\n",
        "print(\"X shape\",  X.shape, \"type = \", type(X))\n",
        "print(\"Y shape\",  y.shape, \"type = \", type(y))"
      ],
      "id": "5dW1DbuosBOh",
      "execution_count": null,
      "outputs": [
        {
          "output_type": "stream",
          "text": [
            "Shape original dataFrame (32561, 16)\n",
            "X shape (30153, 15) type =  <class 'pandas.core.frame.DataFrame'>\n",
            "Y shape (30153,) type =  <class 'pandas.core.series.Series'>\n"
          ],
          "name": "stdout"
        }
      ]
    },
    {
      "cell_type": "markdown",
      "metadata": {
        "id": "4R8pGfhEsBOh"
      },
      "source": [
        "### Split the Dataset - Training, Testing"
      ],
      "id": "4R8pGfhEsBOh"
    },
    {
      "cell_type": "code",
      "metadata": {
        "scrolled": true,
        "id": "oPy2GEN9sBOh"
      },
      "source": [
        "#Load the python library - sklearn  \n",
        "from sklearn.model_selection import train_test_split\n",
        "\n",
        "#Split dataset into train and test set\n",
        "#train_test_split(X, y, test_size = 0.2, random_state = 30) \n",
        "X_train, X_test, y_train, y_test = train_test_split(X, y, test_size=0.2, random_state=30)"
      ],
      "id": "oPy2GEN9sBOh",
      "execution_count": null,
      "outputs": []
    },
    {
      "cell_type": "markdown",
      "metadata": {
        "id": "6bCF8tb4sBOh"
      },
      "source": [
        "### Split the input matrix - numerical and categorical sets"
      ],
      "id": "6bCF8tb4sBOh"
    },
    {
      "cell_type": "code",
      "metadata": {
        "id": "_gg6lzQPsBOh"
      },
      "source": [
        "cat_attribute = ['work_type','education', 'marital_status', 'occupation', 'relationship','race','sex','country']\n",
        "X_train_num = X_train.drop(cat_attribute, axis = 1)\n",
        "X_train_cat = X_train[cat_attribute]"
      ],
      "id": "_gg6lzQPsBOh",
      "execution_count": null,
      "outputs": []
    },
    {
      "cell_type": "markdown",
      "metadata": {
        "id": "v0EGpupksBOi"
      },
      "source": [
        "### Standardize numeric data"
      ],
      "id": "v0EGpupksBOi"
    },
    {
      "cell_type": "code",
      "metadata": {
        "id": "RTg71lkKsBOi"
      },
      "source": [
        "from sklearn.preprocessing import StandardScaler\n",
        "scaler = StandardScaler(copy = False)\n",
        "scaler.fit(X_train_num)       \n",
        "X_train_num_tr = scaler.transform(X_train_num)"
      ],
      "id": "RTg71lkKsBOi",
      "execution_count": null,
      "outputs": []
    },
    {
      "cell_type": "code",
      "metadata": {
        "id": "oC3CvUv-sBOi",
        "outputId": "adcc6dd8-9b95-4e5e-a4c7-f7c869ae85f2"
      },
      "source": [
        "print('Mean:\\n',X_train_num_tr.mean (axis=0))\n",
        "print('\\nStandard Deviation:\\n',X_train_num_tr.std (axis=0))"
      ],
      "id": "oC3CvUv-sBOi",
      "execution_count": null,
      "outputs": [
        {
          "output_type": "stream",
          "text": [
            "Mean:\n",
            " [ 1.58474418e-16  4.00604478e-17  2.25045456e-16  5.89124232e-18\n",
            "  0.00000000e+00  6.11216390e-17 -2.40362687e-16]\n",
            "\n",
            "Standard Deviation:\n",
            " [1. 1. 1. 1. 1. 1. 1.]\n"
          ],
          "name": "stdout"
        }
      ]
    },
    {
      "cell_type": "code",
      "metadata": {
        "id": "JC2SzBYFsBOi",
        "outputId": "53a62a3d-f0de-45f3-9acb-592567300028"
      },
      "source": [
        "X_train_num_tr  #transformed into ndArray"
      ],
      "id": "JC2SzBYFsBOi",
      "execution_count": null,
      "outputs": [
        {
          "output_type": "execute_result",
          "data": {
            "text/plain": [
              "array([[-1.47877606,  2.14605934, -0.43726317, ..., -0.21714456,\n",
              "        -1.09027426,  0.75014643],\n",
              "       [ 0.72888682, -1.41653869, -0.43726317, ..., -0.21714456,\n",
              "         1.16431632, -0.07987046],\n",
              "       [ 2.40366555,  0.83156301, -0.43726317, ..., -0.21714456,\n",
              "        -1.04469156, -0.07987046],\n",
              "       ...,\n",
              "       [ 1.10951834,  0.94934365, -0.43726317, ..., -0.21714456,\n",
              "        -0.64847269,  0.75014643],\n",
              "       [ 0.65276051,  2.17742417,  1.13023009, ..., -0.21714456,\n",
              "        -0.52575003, -0.07987046],\n",
              "       [-0.18462886, -0.22687043,  1.5221034 , ..., -0.21714456,\n",
              "         1.36417894,  0.75014643]])"
            ]
          },
          "metadata": {
            "tags": []
          },
          "execution_count": 22
        }
      ]
    },
    {
      "cell_type": "markdown",
      "metadata": {
        "id": "glSaIRUysBOi"
      },
      "source": [
        "### One-hot encode categorical data"
      ],
      "id": "glSaIRUysBOi"
    },
    {
      "cell_type": "code",
      "metadata": {
        "id": "VMkHcJYesBOj",
        "outputId": "fa07a41d-4089-479e-9954-3ede67ebdfb3"
      },
      "source": [
        "X_train_cat.info()"
      ],
      "id": "VMkHcJYesBOj",
      "execution_count": null,
      "outputs": [
        {
          "output_type": "stream",
          "text": [
            "<class 'pandas.core.frame.DataFrame'>\n",
            "Int64Index: 24122 entries, 12305 to 6405\n",
            "Data columns (total 8 columns):\n",
            " #   Column          Non-Null Count  Dtype \n",
            "---  ------          --------------  ----- \n",
            " 0   work_type       24122 non-null  object\n",
            " 1   education       24122 non-null  object\n",
            " 2   marital_status  24122 non-null  object\n",
            " 3   occupation      24122 non-null  object\n",
            " 4   relationship    24122 non-null  object\n",
            " 5   race            24122 non-null  object\n",
            " 6   sex             24122 non-null  object\n",
            " 7   country         24122 non-null  object\n",
            "dtypes: object(8)\n",
            "memory usage: 1.7+ MB\n"
          ],
          "name": "stdout"
        }
      ]
    },
    {
      "cell_type": "code",
      "metadata": {
        "id": "B_bhwmMGsBOj"
      },
      "source": [
        "#Seperate each of the Categorical Attribute for One Hot Encoding\n",
        "X_train_cat1=X_train_cat.work_type\n",
        "X_train_cat2=X_train_cat.education\n",
        "X_train_cat3=X_train_cat.marital_status\n",
        "X_train_cat4=X_train_cat.occupation\n",
        "X_train_cat5=X_train_cat.relationship\n",
        "X_train_cat6=X_train_cat.race\n",
        "X_train_cat7=X_train_cat.sex\n",
        "X_train_cat8=X_train_cat.country"
      ],
      "id": "B_bhwmMGsBOj",
      "execution_count": null,
      "outputs": []
    },
    {
      "cell_type": "code",
      "metadata": {
        "id": "HMgwp-yDsBOj"
      },
      "source": [
        "#One hot Encoding for Training Set\n",
        "from sklearn.preprocessing import LabelBinarizer\n",
        "\n",
        "\n",
        "#FIXME!:Convert These to Loops!\n",
        "\n",
        "#Instantaneous the LabelBinarizer Object for each Category\n",
        "lb_encoder=LabelBinarizer()\n",
        "cat1_encoder=LabelBinarizer()\n",
        "cat2_encoder=LabelBinarizer()\n",
        "cat3_encoder=LabelBinarizer()\n",
        "cat4_encoder=LabelBinarizer()\n",
        "cat5_encoder=LabelBinarizer()\n",
        "cat6_encoder=LabelBinarizer()\n",
        "cat7_encoder=LabelBinarizer()\n",
        "cat8_encoder=LabelBinarizer()\n",
        "\n",
        "#Create the Label Binarizer Encoder based on Training Set Values\n",
        "cat1_encoder.fit(X_train_cat1)\n",
        "cat2_encoder.fit(X_train_cat2)\n",
        "cat3_encoder.fit(X_train_cat3)\n",
        "cat4_encoder.fit(X_train_cat4)\n",
        "cat5_encoder.fit(X_train_cat5)\n",
        "cat6_encoder.fit(X_train_cat6)\n",
        "cat7_encoder.fit(X_train_cat7)\n",
        "cat8_encoder.fit(X_train_cat8)\n",
        "\n",
        "#Return the One Hot Encoded value as another Variable\n",
        "X_train_cat_1=cat1_encoder.transform(X_train_cat1)\n",
        "X_train_cat_2=cat2_encoder.transform(X_train_cat2)\n",
        "X_train_cat_3=cat3_encoder.transform(X_train_cat3)\n",
        "X_train_cat_4=cat4_encoder.transform(X_train_cat4)\n",
        "X_train_cat_5=cat5_encoder.transform(X_train_cat5)\n",
        "X_train_cat_6=cat6_encoder.transform(X_train_cat6)\n",
        "X_train_cat_7=cat7_encoder.transform(X_train_cat7)\n",
        "X_train_cat_8=cat8_encoder.transform(X_train_cat8)"
      ],
      "id": "HMgwp-yDsBOj",
      "execution_count": null,
      "outputs": []
    },
    {
      "cell_type": "code",
      "metadata": {
        "id": "J2-ZdNj0sBOj",
        "outputId": "1711068f-39a3-4781-a088-7499d0b0604d"
      },
      "source": [
        "print(\"These are the number of different values per category\")\n",
        "print(X_train_cat_1.shape)\n",
        "print(X_train_cat_2.shape)\n",
        "print(X_train_cat_3.shape)\n",
        "print(X_train_cat_4.shape)\n",
        "print(X_train_cat_5.shape)\n",
        "print(X_train_cat_6.shape)\n",
        "print(X_train_cat_7.shape)\n",
        "print(X_train_cat_8.shape)"
      ],
      "id": "J2-ZdNj0sBOj",
      "execution_count": null,
      "outputs": [
        {
          "output_type": "stream",
          "text": [
            "These are the number of different values per category\n",
            "(24122, 7)\n",
            "(24122, 16)\n",
            "(24122, 7)\n",
            "(24122, 14)\n",
            "(24122, 6)\n",
            "(24122, 5)\n",
            "(24122, 1)\n",
            "(24122, 41)\n"
          ],
          "name": "stdout"
        }
      ]
    },
    {
      "cell_type": "code",
      "metadata": {
        "id": "CuIEiRabsBOk",
        "outputId": "29796ecd-74c5-4d9f-bef0-cee85e611f59"
      },
      "source": [
        "#Combine all One Hot Encoded Category Lable in to one Numpy Array\n",
        "combine=np.hstack((X_train_cat_1,X_train_cat_2,X_train_cat_3,X_train_cat_4,X_train_cat_5,X_train_cat_6,X_train_cat_7,X_train_cat_8))\n",
        "combine.shape"
      ],
      "id": "CuIEiRabsBOk",
      "execution_count": null,
      "outputs": [
        {
          "output_type": "execute_result",
          "data": {
            "text/plain": [
              "(24122, 97)"
            ]
          },
          "metadata": {
            "tags": []
          },
          "execution_count": 28
        }
      ]
    },
    {
      "cell_type": "code",
      "metadata": {
        "id": "JsORVE2dsBOk",
        "outputId": "cb90574c-5af9-4bef-871c-80e944ef82fb"
      },
      "source": [
        "#Combine Categorical and Numerical Data Together for Training Set\n",
        "\n",
        "#Original Traning Set\n",
        "X_train_tr=np.hstack((X_train_num,combine))\n",
        "\n",
        "print(X_train_tr.shape)          #Severly Inflate the Attribute Count\n",
        "\n",
        "#Make sure the Samples are the same for X and y!\n",
        "print(y_train.shape)"
      ],
      "id": "JsORVE2dsBOk",
      "execution_count": null,
      "outputs": [
        {
          "output_type": "stream",
          "text": [
            "(24122, 104)\n",
            "(24122,)\n"
          ],
          "name": "stdout"
        }
      ]
    },
    {
      "cell_type": "code",
      "metadata": {
        "scrolled": true,
        "id": "4AxNmyPZsBOl",
        "outputId": "ca0b5b90-9087-479c-ca02-fb5b7fdb9391"
      },
      "source": [
        "y_train.value_counts()"
      ],
      "id": "4AxNmyPZsBOl",
      "execution_count": null,
      "outputs": [
        {
          "output_type": "execute_result",
          "data": {
            "text/plain": [
              "low     18112\n",
              "high     6010\n",
              "Name: salary_range, dtype: int64"
            ]
          },
          "metadata": {
            "tags": []
          },
          "execution_count": 33
        }
      ]
    },
    {
      "cell_type": "markdown",
      "metadata": {
        "id": "mYpO6H5nsBOl"
      },
      "source": [
        "*Observation: May cause Imbalanced Class result"
      ],
      "id": "mYpO6H5nsBOl"
    },
    {
      "cell_type": "markdown",
      "metadata": {
        "id": "gMLuaCH5sBOl"
      },
      "source": [
        "## Preprocessing on Test set"
      ],
      "id": "gMLuaCH5sBOl"
    },
    {
      "cell_type": "markdown",
      "metadata": {
        "id": "2sFiy-9ksBOl"
      },
      "source": [
        "*The preprocessing steps are almost same with training set"
      ],
      "id": "2sFiy-9ksBOl"
    },
    {
      "cell_type": "code",
      "metadata": {
        "id": "jhvA05iSsBOl",
        "outputId": "10fd788b-0746-45ef-ed76-7eefaa5ff130"
      },
      "source": [
        "#Seperate Numerical and Categorical Data for Processing\n",
        "cat_attribute = ['work_type','education', 'marital_status', 'occupation', 'relationship','race','sex','country']\n",
        "X_test_num = X_test.drop(cat_attribute, axis = 1)\n",
        "X_test_cat = X_test[cat_attribute]\n",
        "print(X_test_num.shape)\n",
        "print(X_test_cat.shape)"
      ],
      "id": "jhvA05iSsBOl",
      "execution_count": null,
      "outputs": [
        {
          "output_type": "stream",
          "text": [
            "(6031, 7)\n",
            "(6031, 8)\n"
          ],
          "name": "stdout"
        }
      ]
    },
    {
      "cell_type": "markdown",
      "metadata": {
        "id": "_qWbAxkYsBOm"
      },
      "source": [
        "### Standardize on Test Set "
      ],
      "id": "_qWbAxkYsBOm"
    },
    {
      "cell_type": "code",
      "metadata": {
        "id": "qLOAFtD7sBOm"
      },
      "source": [
        "from sklearn.preprocessing import StandardScaler\n",
        "scaler = StandardScaler(copy = False)\n",
        "scaler.fit(X_test_num)       \n",
        "X_test_num_tr = scaler.transform(X_test_num)"
      ],
      "id": "qLOAFtD7sBOm",
      "execution_count": null,
      "outputs": []
    },
    {
      "cell_type": "code",
      "metadata": {
        "id": "IVvr1--MsBOm"
      },
      "source": [
        "print('Mean:\\n',X_test_num_tr.mean (axis=0))\n",
        "print('\\nStandard Deviation:\\n',X_test_num_tr.std (axis=0))\n",
        "X_test_num_tr  #transformed into ndArray"
      ],
      "id": "IVvr1--MsBOm",
      "execution_count": null,
      "outputs": []
    },
    {
      "cell_type": "markdown",
      "metadata": {
        "id": "3lgiQV9ysBOm"
      },
      "source": [
        "### One Hot Encoding on Test Set"
      ],
      "id": "3lgiQV9ysBOm"
    },
    {
      "cell_type": "code",
      "metadata": {
        "id": "MUM9ofTXsBOm"
      },
      "source": [
        "#Seperate each of the Categorical Attribute for One Hot Encoding\n",
        "X_test_cat1=X_test_cat.work_type\n",
        "X_test_cat2=X_test_cat.education\n",
        "X_test_cat3=X_test_cat.marital_status\n",
        "X_test_cat4=X_test_cat.occupation\n",
        "X_test_cat5=X_test_cat.relationship\n",
        "X_test_cat6=X_test_cat.race\n",
        "X_test_cat7=X_test_cat.sex\n",
        "X_test_cat8=X_test_cat.country"
      ],
      "id": "MUM9ofTXsBOm",
      "execution_count": null,
      "outputs": []
    },
    {
      "cell_type": "code",
      "metadata": {
        "id": "bN-h2N4tsBOn"
      },
      "source": [
        "#One hot Encoding for Testing Set\n",
        "from sklearn.preprocessing import LabelBinarizer\n",
        "\n",
        "#Instantaneous the LabelBinarizer Object for each Category\n",
        "lb_encoder=LabelBinarizer()\n",
        "cat1_encoder=LabelBinarizer()\n",
        "cat2_encoder=LabelBinarizer()\n",
        "cat3_encoder=LabelBinarizer()\n",
        "cat4_encoder=LabelBinarizer()\n",
        "cat5_encoder=LabelBinarizer()\n",
        "cat6_encoder=LabelBinarizer()\n",
        "cat7_encoder=LabelBinarizer()\n",
        "cat8_encoder=LabelBinarizer()\n",
        "\n",
        "#Create the Label Binarizer Encoder based on Testing Set Values\n",
        "cat1_encoder.fit(X_test_cat1)\n",
        "cat2_encoder.fit(X_test_cat2)\n",
        "cat3_encoder.fit(X_test_cat3)\n",
        "cat4_encoder.fit(X_test_cat4)\n",
        "cat5_encoder.fit(X_test_cat5)\n",
        "cat6_encoder.fit(X_test_cat6)\n",
        "cat7_encoder.fit(X_test_cat7)\n",
        "cat8_encoder.fit(X_test_cat8)\n",
        "\n",
        "#Return the One Hot Encoded value as another Variable\n",
        "X_test_cat_1=cat1_encoder.transform(X_test_cat1)\n",
        "X_test_cat_2=cat2_encoder.transform(X_test_cat2)\n",
        "X_test_cat_3=cat3_encoder.transform(X_test_cat3)\n",
        "X_test_cat_4=cat4_encoder.transform(X_test_cat4)\n",
        "X_test_cat_5=cat5_encoder.transform(X_test_cat5)\n",
        "X_test_cat_6=cat6_encoder.transform(X_test_cat6)\n",
        "X_test_cat_7=cat7_encoder.transform(X_test_cat7)\n",
        "X_test_cat_8=cat8_encoder.transform(X_test_cat8)"
      ],
      "id": "bN-h2N4tsBOn",
      "execution_count": null,
      "outputs": []
    },
    {
      "cell_type": "code",
      "metadata": {
        "id": "-5tHyCtesBOn",
        "outputId": "1cd0acfe-268e-47d8-f703-81b216adaa57"
      },
      "source": [
        "print(\"These are the number of different values per category\")\n",
        "print(X_test_cat_1.shape)\n",
        "print(X_test_cat_2.shape)\n",
        "print(X_test_cat_3.shape)\n",
        "print(X_test_cat_4.shape)\n",
        "print(X_test_cat_5.shape)\n",
        "print(X_test_cat_6.shape)\n",
        "print(X_test_cat_7.shape)\n",
        "print(X_test_cat_8.shape)"
      ],
      "id": "-5tHyCtesBOn",
      "execution_count": null,
      "outputs": [
        {
          "output_type": "stream",
          "text": [
            "These are the number of different values per category\n",
            "(6031, 7)\n",
            "(6031, 16)\n",
            "(6031, 7)\n",
            "(6031, 14)\n",
            "(6031, 6)\n",
            "(6031, 5)\n",
            "(6031, 1)\n",
            "(6031, 40)\n"
          ],
          "name": "stdout"
        }
      ]
    },
    {
      "cell_type": "code",
      "metadata": {
        "id": "mcq_BxZCsBOn",
        "outputId": "95ecca71-ab5c-4dee-d87b-c19b67357aed"
      },
      "source": [
        "#Combine all One Hot Encoded Category Lable in to one Numpy Array\n",
        "combine_test=np.hstack((X_test_cat_1,X_test_cat_2,X_test_cat_3,X_test_cat_4,X_test_cat_5,X_test_cat_6,X_test_cat_7,X_test_cat_8))\n",
        "combine_test.shape"
      ],
      "id": "mcq_BxZCsBOn",
      "execution_count": null,
      "outputs": [
        {
          "output_type": "execute_result",
          "data": {
            "text/plain": [
              "(6031, 96)"
            ]
          },
          "metadata": {
            "tags": []
          },
          "execution_count": 43
        }
      ]
    },
    {
      "cell_type": "markdown",
      "metadata": {
        "id": "KBvDM3UrsBOo"
      },
      "source": [
        "### Finalize Test Set"
      ],
      "id": "KBvDM3UrsBOo"
    },
    {
      "cell_type": "code",
      "metadata": {
        "id": "TCo2SS00sBOo",
        "outputId": "cd59fbd5-20b1-4787-e61f-86de91fc1dae"
      },
      "source": [
        "#Combine Categorical and Numerical Data Together for Testing Dataset\n",
        "X_test_tr=np.hstack((X_test_num,combine_test))\n",
        "#X_test_tr_std=np.hstack((X_test_num_std,combine_test))\n",
        "\n",
        "print(X_test_tr.shape) \n",
        "print(y_test.shape)        #Make Sure the Sample Count on Both are the Same"
      ],
      "id": "TCo2SS00sBOo",
      "execution_count": null,
      "outputs": [
        {
          "output_type": "stream",
          "text": [
            "(6031, 103)\n",
            "(6031,)\n"
          ],
          "name": "stdout"
        }
      ]
    },
    {
      "cell_type": "code",
      "metadata": {
        "id": "4uNrBnpxsBOo",
        "outputId": "b1d04631-9b49-4020-fb1d-4b0b93e60105"
      },
      "source": [
        "print(\"Just the Summarize and Check,These are the information per array\")\n",
        "print()\n",
        "print('Original Dataset')\n",
        "print('Salary',new_salary.shape)\n",
        "print()\n",
        "print('Preprocessed and Combined Training Set')\n",
        "print()\n",
        "print('X_train_tr',X_train_tr.shape)\n",
        "\n",
        "#print('X_train_tr_std',X_train_tr_std.shape)\n",
        "print('y_train',y_train.shape)\n",
        "print()\n",
        "print('Preprocessed and Combined Testing Set')\n",
        "print('X_test_tr',X_test_tr.shape)\n",
        "#print('X_test_tr_std',X_test_tr_std.shape)\n",
        "print('y_test',y_test.shape)\n",
        "\n",
        "print('Make sure both X,Y have same no of sample and Train/Test have same number of attribute')"
      ],
      "id": "4uNrBnpxsBOo",
      "execution_count": null,
      "outputs": [
        {
          "output_type": "stream",
          "text": [
            "Just the Summarize and Check,These are the information per array\n",
            "\n",
            "Original Dataset\n",
            "Salary (30153, 16)\n",
            "\n",
            "Preprocessed and Combined Training Set\n",
            "\n",
            "X_train_tr (24122, 104)\n",
            "y_train (24122,)\n",
            "\n",
            "Preprocessed and Combined Testing Set\n",
            "X_test_tr (6031, 103)\n",
            "y_test (6031,)\n",
            "Make sure both X,Y have same no of sample and Train/Test have same number of attribute\n"
          ],
          "name": "stdout"
        }
      ]
    },
    {
      "cell_type": "markdown",
      "metadata": {
        "id": "G7vyAkW8sBOo"
      },
      "source": [
        "### Data Preprocessing End\n",
        "---"
      ],
      "id": "G7vyAkW8sBOo"
    }
  ]
}